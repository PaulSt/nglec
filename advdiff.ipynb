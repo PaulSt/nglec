{
 "cells": [
  {
   "cell_type": "markdown",
   "metadata": {},
   "source": [
    "# Advection diffusion\n",
    "\n",
    "This section shows how to solve the adv diff\n",
    "$$\n",
    "-\\nabla(\\varepsilon \\nabla u)+\\beta\\cdot\\nabla u = f \\text{ in } \\Omega\n",
    "$$\n",
    "$$\n",
    "u=0 \\text{ on } \\partial\\Omega\n",
    "$$"
   ]
  },
  {
   "cell_type": "markdown",
   "metadata": {},
   "source": [
    "### Finite element spaces with Dirichlet conditions"
   ]
  },
  {
   "cell_type": "code",
   "execution_count": 1,
   "metadata": {},
   "outputs": [],
   "source": [
    "import netgen.gui\n",
    "%gui tk\n",
    "from ngsolve import *\n",
    "from netgen.geom2d import unit_square"
   ]
  },
  {
   "cell_type": "code",
   "execution_count": 2,
   "metadata": {},
   "outputs": [
    {
     "data": {
      "text/plain": [
       "('bottom', 'right', 'top', 'left')"
      ]
     },
     "execution_count": 2,
     "metadata": {},
     "output_type": "execute_result"
    }
   ],
   "source": [
    "maxh = 0.05\n",
    "mesh = Mesh(unit_square.GenerateMesh(maxh=maxh))\n",
    "mesh.GetBoundaries()"
   ]
  },
  {
   "cell_type": "code",
   "execution_count": 3,
   "metadata": {},
   "outputs": [],
   "source": [
    "fes = H1(mesh, order=2, dirichlet=\"bottom|top|left|right\") #need higher order to see effects between GLS and SUPG\n",
    "u = fes.TrialFunction()\n",
    "v = fes.TestFunction()"
   ]
  },
  {
   "cell_type": "code",
   "execution_count": 4,
   "metadata": {},
   "outputs": [],
   "source": [
    "eps = 0.1\n",
    "beta = (90,0)\n",
    "cbeta = CoefficientFunction(beta)\n",
    "f = 10"
   ]
  },
  {
   "cell_type": "markdown",
   "metadata": {},
   "source": [
    "### Standard Formulation\n",
    "$$ \\varepsilon\\int\\nabla u\\cdot\\nabla v + \\int \\beta\\cdot\\nabla u v = \\int fv$$"
   ]
  },
  {
   "cell_type": "code",
   "execution_count": 5,
   "metadata": {},
   "outputs": [],
   "source": [
    "a = BilinearForm(fes)\n",
    "a += SymbolicBFI(eps*grad(u)*grad(v)+cbeta*grad(u)*v)\n",
    "a.Assemble()\n",
    "\n",
    "l = LinearForm(fes)\n",
    "l += SymbolicLFI(f*v)\n",
    "l.Assemble()"
   ]
  },
  {
   "cell_type": "code",
   "execution_count": 6,
   "metadata": {},
   "outputs": [],
   "source": [
    "gfu = GridFunction(fes)\n",
    "gfu.vec.data = a.mat.Inverse(freedofs=fes.FreeDofs()) * l.vec \n",
    "Draw(gfu)"
   ]
  },
  {
   "cell_type": "markdown",
   "metadata": {},
   "source": [
    "### Strongly Consistent Stabilization\n",
    "approximate $h_K$ with $\\max_{K} h_K$"
   ]
  },
  {
   "cell_type": "markdown",
   "metadata": {},
   "source": [
    "##### SUPG $\\rho=0$\n",
    "add $$+\\sum_K \\delta_K\\int_K (-\\varepsilon\\Delta u + \\beta\\cdot\\nabla u - f)(\\beta\\cdot\\nabla v)\\frac{h_k}{|\\beta|}$$"
   ]
  },
  {
   "cell_type": "code",
   "execution_count": 7,
   "metadata": {},
   "outputs": [],
   "source": [
    "delta = 0.3\n",
    "nbeta = sqrt(beta[0]**2+beta[1]**2)\n",
    "lapu = u.Operator(\"hesse\")[0] + u.Operator(\"hesse\")[3]\n",
    "lapv = v.Operator(\"hesse\")[0] + v.Operator(\"hesse\")[3]\n",
    "\n",
    "\n",
    "a = BilinearForm(fes)\n",
    "a += SymbolicBFI(eps*grad(u)*grad(v)+cbeta*grad(u)*v)\n",
    "a += SymbolicBFI(delta*(-eps*lapu*(maxh/nbeta)*cbeta*grad(v)))\n",
    "a += SymbolicBFI(delta*(cbeta*grad(u)*(maxh/nbeta)*cbeta*grad(v)))\n",
    "a.Assemble()\n",
    "\n",
    "l = LinearForm(fes)\n",
    "l += SymbolicLFI(f*v)\n",
    "l += SymbolicLFI(delta*( f * (maxh/nbeta)*(cbeta*grad(v)) ))\n",
    "l.Assemble()"
   ]
  },
  {
   "cell_type": "code",
   "execution_count": 8,
   "metadata": {},
   "outputs": [],
   "source": [
    "gfu = GridFunction(fes)\n",
    "gfu.vec.data = a.mat.Inverse(freedofs=fes.FreeDofs()) * l.vec \n",
    "Draw(gfu)"
   ]
  },
  {
   "cell_type": "markdown",
   "metadata": {},
   "source": [
    "#### GLS $\\rho = 1$"
   ]
  },
  {
   "cell_type": "code",
   "execution_count": 9,
   "metadata": {},
   "outputs": [],
   "source": [
    "delta = 0.3\n",
    "nbeta = sqrt(beta[0]**2+beta[1]**2)\n",
    "lapu = u.Operator(\"hesse\")[0] + u.Operator(\"hesse\")[3]\n",
    "lapv = v.Operator(\"hesse\")[0] + v.Operator(\"hesse\")[3]\n",
    "\n",
    "a = BilinearForm(fes)\n",
    "a += SymbolicBFI(eps*grad(u)*grad(v)+cbeta*grad(u)*v)\n",
    "a += SymbolicBFI(delta*(-eps*lapu*(maxh/nbeta)*cbeta*grad(v) ))\n",
    "a += SymbolicBFI(delta*(cbeta*grad(u)*(maxh/nbeta)*cbeta*grad(v) ))\n",
    "a += SymbolicBFI(delta*(eps*eps*(maxh/nbeta)*u.Operator(\"hesse\")[0]*v.Operator(\"hesse\")[0] ))\n",
    "a += SymbolicBFI(delta*(eps*eps*(maxh/nbeta)*u.Operator(\"hesse\")[3]*v.Operator(\"hesse\")[0] ))\n",
    "a += SymbolicBFI(delta*(eps*eps*(maxh/nbeta)*u.Operator(\"hesse\")[0]*v.Operator(\"hesse\")[3] ))\n",
    "a += SymbolicBFI(delta*(eps*eps*(maxh/nbeta)*u.Operator(\"hesse\")[3]*v.Operator(\"hesse\")[3] ))\n",
    "a += SymbolicBFI(delta*((-eps)*(maxh/nbeta)*(cbeta*grad(u))*lapv ))\n",
    "\n",
    "a.Assemble()\n",
    "\n",
    "l = LinearForm(fes)\n",
    "l += SymbolicLFI(f*v)\n",
    "l += SymbolicLFI(delta*( f * (maxh/nbeta)*cbeta*grad(v) ))\n",
    "l += SymbolicLFI(delta*( f * (maxh/nbeta)*(-eps)*lapv ))\n",
    "l.Assemble()"
   ]
  },
  {
   "cell_type": "code",
   "execution_count": 10,
   "metadata": {},
   "outputs": [],
   "source": [
    "gfu = GridFunction(fes)\n",
    "gfu.vec.data = a.mat.Inverse(freedofs=fes.FreeDofs()) * l.vec \n",
    "Draw(gfu)"
   ]
  },
  {
   "cell_type": "code",
   "execution_count": null,
   "metadata": {},
   "outputs": [],
   "source": []
  }
 ],
 "metadata": {
  "kernelspec": {
   "display_name": "Python 3",
   "language": "python",
   "name": "python3"
  },
  "language_info": {
   "codemirror_mode": {
    "name": "ipython",
    "version": 3
   },
   "file_extension": ".py",
   "mimetype": "text/x-python",
   "name": "python",
   "nbconvert_exporter": "python",
   "pygments_lexer": "ipython3",
   "version": "3.7.2"
  }
 },
 "nbformat": 4,
 "nbformat_minor": 2
}
