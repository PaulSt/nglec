{
 "cells": [
  {
   "cell_type": "markdown",
   "metadata": {},
   "source": [
    "# Advection diffusion\n",
    "\n",
    "This section shows how to solve\n",
    "$$\n",
    "-\\nabla(\\varepsilon \\nabla u)+\\beta\\cdot\\nabla u = f \\text{ in } \\Omega\n",
    "$$\n",
    "$$\n",
    "u=0 \\text{ on } \\partial\\Omega\n",
    "$$"
   ]
  },
  {
   "cell_type": "markdown",
   "metadata": {},
   "source": [
    "### Finite element spaces with Dirichlet conditions"
   ]
  },
  {
   "cell_type": "code",
   "execution_count": null,
   "metadata": {},
   "outputs": [],
   "source": [
    "from ngsolve import *\n",
    "from netgen.occ import *\n",
    "from ngsolve.webgui import Draw"
   ]
  },
  {
   "cell_type": "code",
   "execution_count": null,
   "metadata": {},
   "outputs": [],
   "source": [
    "maxh = 0.05\n",
    "mesh = Mesh(unit_square.GenerateMesh(maxh=maxh))"
   ]
  },
  {
   "cell_type": "code",
   "execution_count": null,
   "metadata": {},
   "outputs": [],
   "source": []
  },
  {
   "cell_type": "code",
   "execution_count": null,
   "metadata": {},
   "outputs": [],
   "source": [
    "fes = H1(mesh, order=2, dirichlet=\"bottom|top|left|right\") #need higher order to see effects between GLS and SUPG\n",
    "u = fes.TrialFunction()\n",
    "v = fes.TestFunction()"
   ]
  },
  {
   "cell_type": "code",
   "execution_count": null,
   "metadata": {},
   "outputs": [],
   "source": [
    "eps = 0.1\n",
    "beta = (50,0)\n",
    "cbeta = CoefficientFunction(beta)\n",
    "f = 10"
   ]
  },
  {
   "cell_type": "markdown",
   "metadata": {},
   "source": [
    "### Weak Formulation\n",
    "$$ \\varepsilon\\int\\nabla u\\cdot\\nabla v + \\int \\beta\\cdot\\nabla u v = \\int fv$$"
   ]
  },
  {
   "cell_type": "code",
   "execution_count": null,
   "metadata": {},
   "outputs": [],
   "source": [
    "a = BilinearForm(fes)\n",
    "a += (eps*grad(u)*grad(v)+cbeta*grad(u)*v) * dx\n",
    "a.Assemble()\n",
    "\n",
    "l = LinearForm(fes)\n",
    "l += f*v*dx\n",
    "l.Assemble()"
   ]
  },
  {
   "cell_type": "code",
   "execution_count": null,
   "metadata": {},
   "outputs": [],
   "source": [
    "gfu = GridFunction(fes)\n",
    "gfu.vec.data = a.mat.Inverse(freedofs=fes.FreeDofs()) * l.vec \n",
    "Draw(gfu)"
   ]
  },
  {
   "cell_type": "markdown",
   "metadata": {},
   "source": [
    "### Strongly Consistent Stabilization\n",
    "approximate $h_K$ with $\\max_{K} h_K$"
   ]
  },
  {
   "cell_type": "markdown",
   "metadata": {},
   "source": [
    "##### SUPG $\\rho=0$\n",
    "add $$+\\sum_K \\delta_K\\int_K (-\\varepsilon\\Delta u + \\beta\\cdot\\nabla u - f)(\\beta\\cdot\\nabla v)\\frac{h_k}{|\\beta|}$$"
   ]
  },
  {
   "cell_type": "code",
   "execution_count": null,
   "metadata": {},
   "outputs": [],
   "source": [
    "delta = 0.3\n",
    "lapu = Trace(u.Operator(\"hesse\"))\n",
    "lapv = Trace(v.Operator(\"hesse\"))\n",
    "\n",
    "\n",
    "a = BilinearForm(fes)\n",
    "a += ( eps*grad(u)*grad(v) + cbeta*grad(u)*v )*dx\n",
    "a += delta * (-eps*lapu + cbeta*grad(u)) * (cbeta*grad(v)) * maxh/Norm(cbeta)*dx\n",
    "a.Assemble()\n",
    "\n",
    "l = LinearForm(fes)\n",
    "l += f*v*dx\n",
    "l += delta* f * (cbeta*grad(v)) * maxh/Norm(cbeta)*dx\n",
    "l.Assemble()"
   ]
  },
  {
   "cell_type": "code",
   "execution_count": null,
   "metadata": {},
   "outputs": [],
   "source": [
    "gfu = GridFunction(fes)\n",
    "gfu.vec.data = a.mat.Inverse(freedofs=fes.FreeDofs()) * l.vec \n",
    "Draw(gfu)"
   ]
  },
  {
   "cell_type": "markdown",
   "metadata": {},
   "source": [
    "#### GLS $\\rho = 1$"
   ]
  },
  {
   "cell_type": "code",
   "execution_count": null,
   "metadata": {},
   "outputs": [],
   "source": [
    "delta = .3\n",
    "lapu = Trace(u.Operator(\"hesse\"))\n",
    "lapv = Trace(v.Operator(\"hesse\"))\n",
    "\n",
    "a = BilinearForm(fes)\n",
    "a += (eps*grad(u)*grad(v)+cbeta*grad(u)*v) * dx\n",
    "a += delta * (-eps*lapu + cbeta*grad(u)) * (-eps*lapv + cbeta*grad(v)) * maxh/Norm(cbeta)*dx\n",
    "a.Assemble()\n",
    "\n",
    "l = LinearForm(fes)\n",
    "l += f*v * dx\n",
    "l += delta * f * (-eps*lapv + cbeta*grad(v)) * maxh/Norm(cbeta)*dx\n",
    "l.Assemble()"
   ]
  },
  {
   "cell_type": "code",
   "execution_count": null,
   "metadata": {},
   "outputs": [],
   "source": [
    "gfu = GridFunction(fes)\n",
    "gfu.vec.data = a.mat.Inverse(freedofs=fes.FreeDofs()) * l.vec \n",
    "Draw(gfu)"
   ]
  },
  {
   "cell_type": "code",
   "execution_count": null,
   "metadata": {},
   "outputs": [],
   "source": [
    "from netgen.meshing import MeshingParameters\n",
    "mp = MeshingParameters (maxh = maxh)\n",
    "minh = 0.01\n",
    "for j in range(0, int(1/minh)+1):\n",
    "    xk = 1.0\n",
    "    yk = j*minh\n",
    "    mp.RestrictH (x=xk, y=yk, z=0, h=minh )\n",
    "mesh = Mesh(unit_square.GenerateMesh(mp=mp))\n",
    "Draw(mesh)"
   ]
  }
 ],
 "metadata": {
  "kernelspec": {
   "display_name": "Python 3 (ipykernel)",
   "language": "python",
   "name": "python3"
  },
  "language_info": {
   "codemirror_mode": {
    "name": "ipython",
    "version": 3
   },
   "file_extension": ".py",
   "mimetype": "text/x-python",
   "name": "python",
   "nbconvert_exporter": "python",
   "pygments_lexer": "ipython3",
   "version": "3.11.6"
  }
 },
 "nbformat": 4,
 "nbformat_minor": 4
}
