{
 "cells": [
  {
   "cell_type": "code",
   "execution_count": 1,
   "metadata": {},
   "outputs": [],
   "source": [
    "import netgen.gui\n",
    "%gui tk\n",
    "from ngsolve import *\n",
    "from netgen.geom2d import SplineGeometry\n",
    "#from scipy.special import jv\n",
    "import matplotlib.pyplot as plt"
   ]
  },
  {
   "cell_type": "markdown",
   "metadata": {},
   "source": [
    "Complex-valued waves\n",
    "====\n",
    "\n",
    "\n",
    "In NGSolve finite element spaces can be built and linear systems can be solved over the complex field. This tutorial shows how to compute the solution of the Helmholtz equation with impedance boundary conditions in complex arithmetic. The boundary value problem is to find $u$ satisfying \n",
    "$$\n",
    "-\\Delta u - \\omega^2 u = f\\qquad \\text{ in } \\Omega\n",
    "$$\n",
    "together with the impedance (outgoing) boundary condition\n",
    "$$\n",
    "\\frac{\\partial u }{ \\partial n} - i \\omega u = 0 \n",
    "\\quad \\text{ on } \\partial \\Omega\n",
    "$$\n",
    "where $i = $`1j` is the imaginary unit.\n",
    "\n"
   ]
  },
  {
   "cell_type": "code",
   "execution_count": 2,
   "metadata": {},
   "outputs": [],
   "source": [
    "# Geometry \n",
    "geo = SplineGeometry()\n",
    "geo.AddCircle((0.5, 0.5), 0.8,  bc=\"outer\")\n",
    "geo.AddRectangle((0.7, 0.3), (0.75, 0.7),\n",
    "                 leftdomain=0, rightdomain=1, bc=\"scat\")\n",
    "mesh = Mesh(geo.GenerateMesh(maxh=0.05))"
   ]
  },
  {
   "cell_type": "markdown",
   "metadata": {},
   "source": [
    "### Declare  a complex finite element space "
   ]
  },
  {
   "cell_type": "code",
   "execution_count": 3,
   "metadata": {},
   "outputs": [],
   "source": [
    "fes = H1(mesh, order=5, complex=True)\n",
    "u, v = fes.TnT()"
   ]
  },
  {
   "cell_type": "code",
   "execution_count": 4,
   "metadata": {},
   "outputs": [],
   "source": [
    "# Wavenumber & source\n",
    "omega = 100\n",
    "pulse = 1e3*exp(-(100**2)*((x-0.5)*(x-0.5) + (y-0.5)*(y-0.5)))\n",
    "Draw(pulse, mesh, 'pulse')"
   ]
  },
  {
   "cell_type": "markdown",
   "metadata": {},
   "source": [
    "### Forming the system\n",
    "\n",
    "The weak form for $u \\in H^1$:\n",
    "$$\n",
    "\\int_\\Omega\\big[ \\nabla u \\cdot \\nabla \\bar v - \\omega^2 u \\bar v \\big]\n",
    "\\, dx - \n",
    "i \\,\\omega\\, \\int_{\\partial \\Omega} u \\bar v \\, ds = \\int_{\\Omega} f \\bar v\n",
    "$$\n",
    "for all $v$ in $H^1$. "
   ]
  },
  {
   "cell_type": "code",
   "execution_count": 5,
   "metadata": {},
   "outputs": [],
   "source": [
    "# Forms\n",
    "a = BilinearForm(fes)\n",
    "a += SymbolicBFI(grad(u)*grad(v)-omega**2*u*v)\n",
    "a += SymbolicBFI(-omega*1j*u*v, definedon=mesh.Boundaries(\"outer\"))\n",
    "a.Assemble()\n",
    "\n",
    "f = LinearForm(fes)\n",
    "f += SymbolicLFI(pulse * v)\n",
    "f.Assemble()"
   ]
  },
  {
   "cell_type": "markdown",
   "metadata": {},
   "source": [
    "### Solve"
   ]
  },
  {
   "cell_type": "code",
   "execution_count": 6,
   "metadata": {},
   "outputs": [],
   "source": [
    "gfu = GridFunction(fes, name=\"u\")\n",
    "gfu.vec.data = a.mat.Inverse() * f.vec\n",
    "Draw(gfu)"
   ]
  },
  {
   "cell_type": "markdown",
   "metadata": {},
   "source": [
    "Explore the GUI's menu options in `Visual` tab:\n",
    "    - Increase subdivions\n",
    "    - Real and imaginary parts\n",
    "    - View absolute value\n",
    "    - Turn off Autoscale\n",
    "    - Turn on Deformation\n",
    "    - Turn on Periodic Animation\n"
   ]
  },
  {
   "cell_type": "markdown",
   "metadata": {},
   "source": [
    "# Comparison to exact solution\n",
    "The boundary value problem is to find $u$ satisfying \n",
    "$$\n",
    "-\\Delta u - \\omega^2 u = 0\\qquad \\text{ in } \\Omega\n",
    "$$\n",
    "together with the impedance (outgoing) boundary condition\n",
    "$$\n",
    "\\frac{\\partial u }{ \\partial n} - i \\omega u = g\n",
    "\\quad \\text{ on } \\partial \\Omega\n",
    "$$\n",
    "with $ g(x)=H_0^{(1)}(\\omega\\sqrt{(x_1-0.5)^2+(x_2-0.5)^2}) $, the Hankel function of first kind."
   ]
  },
  {
   "cell_type": "code",
   "execution_count": 26,
   "metadata": {},
   "outputs": [
    {
     "data": {
      "image/png": "[encoded data removed]",
      "text/plain": [
       "<Figure size 432x288 with 1 Axes>"
      ]
     },
     "metadata": {
      "needs_background": "light"
     },
     "output_type": "display_data"
    }
   ],
   "source": [
    "from netgen.geom2d import unit_square\n",
    "import ngsolve.special_functions\n",
    "\n",
    "omega=20\n",
    "#exact_sol = ngsolve.special_functions.jv(z=omega*sqrt((x-0.5)*(x-0.5)+(y-0.5)*(y-0.5)), v=0)\n",
    "#grad_exact_1 = -omega*(x-0.5) * ngsolve.special_functions.jv(z=omega*sqrt((x-0.5)*(x-0.5)+(y-0.5)*(y-0.5)), v=1)/sqrt((x-0.5)*(x-0.5)+(y-0.5)*(y-0.5))\n",
    "#grad_exact_2 = -omega*(y-0.5) * ngsolve.special_functions.jv(z=omega*sqrt((x-0.5)*(x-0.5)+(y-0.5)*(y-0.5)), v=1)/sqrt((x-0.5)*(x-0.5)+(y-0.5)*(y-0.5))\n",
    "#Draw(exact_sol,mesh,'e')\n",
    "exact_sol = exp(-1j*omega*(sqrt(0.7)*x+sqrt(0.3)*y))\n",
    "\n",
    "maxh = [1/j for j in range(1,14)]\n",
    "error = [0] * len(maxh)\n",
    "\n",
    "for i,h in enumerate(maxh):\n",
    "    mesh = Mesh(unit_square.GenerateMesh(maxh=h))\n",
    "    fes = H1(mesh, order=3, complex=True, dirichlet=\"left|right|top|bottom\")\n",
    "    u, v = fes.TnT()\n",
    "    n = specialcf.normal(2)\n",
    "\n",
    "    a = BilinearForm(fes)\n",
    "    a += SymbolicBFI(grad(u)*grad(v)-omega**2*u*v)\n",
    "    a += SymbolicBFI(-omega*1j*u*v, definedon=mesh.Boundaries(\"outer\"))\n",
    "    a.Assemble()\n",
    "    gfu = GridFunction(fes)\n",
    "    gfu.Set(exact_sol,BND)\n",
    "    r = gfu.vec.CreateVector()\n",
    "    r.data = -a.mat*gfu.vec\n",
    "    gfu.vec.data += a.mat.Inverse(freedofs=fes.FreeDofs()) * r\n",
    "    Draw(gfu,mesh,'gfu')\n",
    "\n",
    "    error[i] = sqrt(Integrate((exact_sol-gfu)*(exact_sol-gfu),mesh)).real\n",
    "\n",
    "\n",
    "fig = plt.figure()\n",
    "plt.loglog(maxh , error, '-o', label=\"h=\"+str(h))\n",
    "plt.gca().invert_xaxis()\n",
    "plt.ylabel(\"error\")\n",
    "plt.xlabel(\"maxh\")\n",
    "plt.show()\n",
    "#plt.draw()"
   ]
  },
  {
   "cell_type": "code",
   "execution_count": null,
   "metadata": {},
   "outputs": [],
   "source": []
  }
 ],
 "metadata": {
  "kernelspec": {
   "display_name": "Python 3",
   "language": "python",
   "name": "python3"
  },
  "language_info": {
   "codemirror_mode": {
    "name": "ipython",
    "version": 3
   },
   "file_extension": ".py",
   "mimetype": "text/x-python",
   "name": "python",
   "nbconvert_exporter": "python",
   "pygments_lexer": "ipython3",
   "version": "3.7.4"
  }
 },
 "nbformat": 4,
 "nbformat_minor": 2
}
